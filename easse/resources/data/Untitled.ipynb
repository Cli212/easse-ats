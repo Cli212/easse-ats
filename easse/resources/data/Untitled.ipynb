{
 "cells": [
  {
   "cell_type": "code",
   "execution_count": 3,
   "id": "536777cb",
   "metadata": {},
   "outputs": [],
   "source": [
    "import pandas as pd"
   ]
  },
  {
   "cell_type": "code",
   "execution_count": 7,
   "id": "16a51bcc",
   "metadata": {},
   "outputs": [],
   "source": [
    "files = ['Hybrid', 'SBMT-SARI']\n",
    "df_list = []\n",
    "for file in files:\n",
    "    with open(f'system_outputs/turkcorpus/test/{file}') as f:\n",
    "        lines = f.readlines()[:70]\n",
    "        df_list.append(pd.DataFrame({'System':[file]*len(lines),'Simp_text':lines}))"
   ]
  },
  {
   "cell_type": "code",
   "execution_count": null,
   "id": "bc60a1e0",
   "metadata": {},
   "outputs": [],
   "source": []
  },
  {
   "cell_type": "code",
   "execution_count": 9,
   "id": "025cfcaa",
   "metadata": {},
   "outputs": [],
   "source": [
    "pd.concat(df_list).to_csv('opt.csv')"
   ]
  },
  {
   "cell_type": "code",
   "execution_count": null,
   "id": "0e3fc1ac",
   "metadata": {},
   "outputs": [],
   "source": []
  }
 ],
 "metadata": {
  "kernelspec": {
   "display_name": "Python 3",
   "language": "python",
   "name": "python3"
  },
  "language_info": {
   "codemirror_mode": {
    "name": "ipython",
    "version": 3
   },
   "file_extension": ".py",
   "mimetype": "text/x-python",
   "name": "python",
   "nbconvert_exporter": "python",
   "pygments_lexer": "ipython3",
   "version": "3.6.7"
  }
 },
 "nbformat": 4,
 "nbformat_minor": 5
}
